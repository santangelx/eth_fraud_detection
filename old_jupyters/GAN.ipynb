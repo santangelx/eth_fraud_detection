{
 "cells": [
  {
   "cell_type": "code",
   "execution_count": 1,
   "id": "fe26e08b",
   "metadata": {},
   "outputs": [],
   "source": [
    "import torch\n",
    "import torchvision\n",
    "import torch.nn as nn\n",
    "import torch.nn.functional as F\n",
    "\n",
    "from torch.utils.data import DataLoader\n",
    "from torchvision import datasets\n",
    "from torchvision import transforms\n",
    "from torchvision.utils import save_image\n",
    "\n",
    "import numpy as np\n",
    "import pandas as pd \n",
    "import datetime\n",
    "\n",
    "import os, sys\n",
    "\n",
    "from matplotlib.pyplot import imshow, imsave\n",
    "%matplotlib inline"
   ]
  },
  {
   "cell_type": "code",
   "execution_count": 2,
   "id": "aef4ee55",
   "metadata": {},
   "outputs": [],
   "source": [
    "MODEL_NAME = 'ConditionalGAN'\n",
    "DEVICE = torch.device(\"cuda:0\" if torch.cuda.is_available() else \"cpu\")"
   ]
  },
  {
   "cell_type": "code",
   "execution_count": 3,
   "id": "76ae8dad",
   "metadata": {},
   "outputs": [
    {
     "name": "stdout",
     "output_type": "stream",
     "text": [
      "torch.Size([64, 33]) torch.Size([64])\n"
     ]
    }
   ],
   "source": [
    "df = pd.read_csv(\"transaction_dataset.csv\")\n",
    "\n",
    "#Rename columns for easier access\n",
    "df.columns = df.columns.str.strip().str.replace(' ','_').str.lower()\n",
    "\n",
    "#Remove weird stuff \n",
    "df.drop(columns=['unnamed:_0'], inplace=True)\n",
    "\n",
    "#Remove duplicate accounts\n",
    "df.drop_duplicates(subset=['address'], inplace=True)\n",
    "\n",
    "#Remove accounts \n",
    "df.drop(columns=['address'], inplace=True)\n",
    "\n",
    "#Remove index\n",
    "df.drop(columns=['index'], inplace=True)\n",
    "\n",
    "#Remove token names \n",
    "df.drop(columns=['erc20_most_sent_token_type','erc20_most_rec_token_type'], inplace = True)\n",
    "\n",
    "#Remove var=0 columns\n",
    "df.drop(df.var(numeric_only=True)[df.var(numeric_only=True) == 0].index, axis = 1, inplace = True)\n",
    "\n",
    "#Remove small distribution columns\n",
    "small_distr_col = []\n",
    "for col in df.columns[3:] :\n",
    "    if len(df[col].value_counts()) < 10:\n",
    "        small_distr_col.append(col)\n",
    "df.drop(columns=small_distr_col,inplace = True)\n",
    "\n",
    "\n",
    "#Replace nan values by median \n",
    "df.fillna(df.median(numeric_only=True), inplace=True)\n",
    "# Remove negative values \n",
    "df[df<0] = None \n",
    "df.dropna(inplace=True)\n",
    "\n",
    "df_n = df.copy()\n",
    "\n",
    "#Normalization \n",
    "for col in df_n.columns[1:]:\n",
    "    df_n[col] = (df_n[col]-df_n[col].mean())/df_n[col].std()\n",
    "means = [df[col].mean() for col in df.columns[1:]]\n",
    "stds = [df[col].std() for col in df.columns[1:]]\n",
    "\n",
    "for i in range(len(df.values)):\n",
    "    if(not np.allclose(df_n.values[i][1:] * stds + means, df.values[i][1:])):\n",
    "        print(\"ay caramba\")\n",
    "\n",
    "class Accounts(torch.utils.data.Dataset):\n",
    "    def __init__(self,df):\n",
    "\n",
    "        x=df.iloc[:,1:].values\n",
    "        y=df.iloc[:,0].values\n",
    "\n",
    "        self.x_train=torch.tensor(x,dtype=torch.float32)\n",
    "        self.y_train=torch.tensor(y,dtype=torch.long)\n",
    "\n",
    "    def __len__(self):\n",
    "        return len(self.y_train)\n",
    "    \n",
    "    def __getitem__(self,idx):\n",
    "        return self.x_train[idx],self.y_train[idx]\n",
    "\n",
    "batch_size = 64\n",
    "features_size = 33 \n",
    "cond_size = 2 # Fraud, No Fraud\n",
    "n_noise = 50\n",
    "data_loader = DataLoader(dataset=Accounts(df_n), batch_size=batch_size, shuffle=True, drop_last=True)\n",
    "sample_data = None \n",
    "for i, (data, labels) in enumerate(data_loader):\n",
    "    print(data.shape, labels.shape)\n",
    "    sample_data = data[0], labels[0]\n",
    "    break;"
   ]
  },
  {
   "cell_type": "code",
   "execution_count": 4,
   "id": "ddd6d17a",
   "metadata": {},
   "outputs": [],
   "source": [
    "def to_onehot(x, num_classes=cond_size):\n",
    "    assert isinstance(x, int) or isinstance(x, (torch.LongTensor, torch.cuda.LongTensor))\n",
    "    if isinstance(x, int):\n",
    "        c = torch.zeros(1, num_classes).long()\n",
    "        c[0][x] = 1\n",
    "    else:\n",
    "        x = x.cpu()\n",
    "        c = torch.LongTensor(x.size(0), num_classes)\n",
    "        c.zero_()\n",
    "        c.scatter_(1, x, 1) # dim, index, src value\n",
    "    return c\n"
   ]
  },
  {
   "cell_type": "code",
   "execution_count": 5,
   "id": "e1b2e748",
   "metadata": {},
   "outputs": [],
   "source": [
    "class Discriminator(nn.Module):\n",
    "    \"\"\"\n",
    "        Simple Discriminator w/ MLP\n",
    "    \"\"\"\n",
    "    def __init__(self, input_size=features_size, condition_size=cond_size, num_classes=1):\n",
    "        super(Discriminator, self).__init__()\n",
    "        self.layer = nn.Sequential(\n",
    "            nn.Linear(input_size+condition_size, 128),\n",
    "            nn.ReLU(),\n",
    "            nn.Linear(128, 64),\n",
    "            nn.ReLU(),\n",
    "            nn.Linear(64, 32),\n",
    "            nn.ReLU(),\n",
    "            nn.Linear(32, num_classes),\n",
    "            nn.Sigmoid(),\n",
    "        )\n",
    "    \n",
    "    def forward(self, x, c):        \n",
    "        x, c = x.view(x.size(0), -1), c.view(c.size(0), -1).float()\n",
    "        v = torch.cat((x, c), 1) # v: [input, label] concatenated vector\n",
    "        y_ = self.layer(v)\n",
    "        return y_\n"
   ]
  },
  {
   "cell_type": "code",
   "execution_count": 6,
   "id": "bb052c27",
   "metadata": {},
   "outputs": [],
   "source": [
    "\n",
    "\n",
    "class Generator(nn.Module):\n",
    "    \"\"\"\n",
    "        Simple Generator w/ MLP\n",
    "    \"\"\"\n",
    "    def __init__(self, input_size=n_noise, condition_size=cond_size, num_classes=features_size):\n",
    "        super(Generator, self).__init__()\n",
    "        self.layer = nn.Sequential(\n",
    "            nn.Linear(input_size+condition_size, 128),\n",
    "            nn.ReLU(),\n",
    "            nn.Linear(128, 128),\n",
    "            nn.ReLU(),\n",
    "            nn.Linear(128, 64),\n",
    "            nn.ReLU(),\n",
    "            nn.Linear(64, num_classes),\n",
    "            nn.Tanh()\n",
    "        )\n",
    "        \n",
    "    def forward(self, x, c):\n",
    "        x, c = x.view(x.size(0), -1), c.view(c.size(0), -1).float()\n",
    "        v = torch.cat((x, c), 1) # v: [input, label] concatenated vector\n",
    "        y_ = self.layer(v)\n",
    "        y_ = y_.view(x.size(0), 1, 33)\n",
    "        return y_"
   ]
  },
  {
   "cell_type": "code",
   "execution_count": 7,
   "id": "682769ea",
   "metadata": {},
   "outputs": [],
   "source": [
    "D = Discriminator().to(DEVICE)\n",
    "G = Generator().to(DEVICE)"
   ]
  },
  {
   "cell_type": "code",
   "execution_count": 8,
   "id": "c036b677",
   "metadata": {},
   "outputs": [],
   "source": [
    "criterion = nn.BCELoss()\n",
    "D_opt = torch.optim.Adam(D.parameters(), lr=0.0001)\n",
    "G_opt = torch.optim.Adam(G.parameters(), lr=0.0001)\n"
   ]
  },
  {
   "cell_type": "code",
   "execution_count": 9,
   "id": "c3dfbc99",
   "metadata": {},
   "outputs": [],
   "source": [
    "max_epoch = 1000 # need more than 100 epochs for training generator\n",
    "step = 0\n",
    "n_critic = 1 # for training more k steps about Discriminator\n",
    "\n",
    "\n",
    "D_labels = torch.ones([batch_size, 1]).to(DEVICE) # Discriminator Label to real\n",
    "D_fakes = torch.zeros([batch_size, 1]).to(DEVICE) # Discriminator Label to fake"
   ]
  },
  {
   "cell_type": "code",
   "execution_count": 10,
   "id": "65e87e21",
   "metadata": {},
   "outputs": [
    {
     "ename": "IndentationError",
     "evalue": "unexpected indent (576971929.py, line 2)",
     "output_type": "error",
     "traceback": [
      "\u001b[0;36m  File \u001b[0;32m\"/var/folders/vr/3ycx2vtx4493y3jhjwnmc7gr0000gn/T/ipykernel_3224/576971929.py\"\u001b[0;36m, line \u001b[0;32m2\u001b[0m\n\u001b[0;31m    for idx, (address, labels) in enumerate(data_loader):\u001b[0m\n\u001b[0m    ^\u001b[0m\n\u001b[0;31mIndentationError\u001b[0m\u001b[0;31m:\u001b[0m unexpected indent\n"
     ]
    }
   ],
   "source": [
    "#for epoch in range(max_epoch):\n",
    "    for idx, (address, labels) in enumerate(data_loader):\n",
    "        # Training Discriminator\n",
    "        x = address.to(DEVICE)\n",
    "        y = labels.view(batch_size, 1)\n",
    "        y = to_onehot(y).to(DEVICE)\n",
    "        x_outputs = D(x, y)\n",
    "        D_x_loss = criterion(x_outputs, D_labels)\n",
    "\n",
    "        z = torch.randn(batch_size, n_noise).to(DEVICE)\n",
    "        z_outputs = D(G(z, y), y)\n",
    "        D_z_loss = criterion(z_outputs, D_fakes)\n",
    "        D_loss = D_x_loss + D_z_loss\n",
    "        \n",
    "        D.zero_grad()\n",
    "        D_loss.backward()\n",
    "        D_opt.step()\n",
    "        \n",
    "        if step % n_critic == 0:\n",
    "            # Training Generator\n",
    "            z = torch.randn(batch_size, n_noise).to(DEVICE)\n",
    "            z_outputs = D(G(z, y), y)\n",
    "            G_loss = criterion(z_outputs, D_labels)\n",
    "\n",
    "            G.zero_grad()\n",
    "            G_loss.backward()\n",
    "            G_opt.step()\n",
    "        \n",
    "        if step % 3000 == 0:\n",
    "            print('Epoch: {}/{}, Step: {}, D Loss: {}, G Loss: {}'.format(epoch, max_epoch, step, D_loss.item(), G_loss.item()))\n",
    "        \n",
    "        step += 1"
   ]
  },
  {
   "cell_type": "code",
   "execution_count": null,
   "id": "1e7e703d",
   "metadata": {},
   "outputs": [],
   "source": [
    "#torch.save(D.state_dict(), \"./models/gan_discriminator\")\n",
    "#torch.save(G.state_dict(), \"./models/gan_generator\")"
   ]
  },
  {
   "cell_type": "code",
   "execution_count": 11,
   "id": "49fa3ea1",
   "metadata": {},
   "outputs": [
    {
     "data": {
      "text/plain": [
       "<All keys matched successfully>"
      ]
     },
     "execution_count": 11,
     "metadata": {},
     "output_type": "execute_result"
    }
   ],
   "source": [
    "D = Discriminator()\n",
    "G = Generator()\n",
    "D.load_state_dict(torch.load(\"./models/gan_discriminator\"))\n",
    "G.load_state_dict(torch.load(\"./models/gan_generator\"))"
   ]
  },
  {
   "cell_type": "code",
   "execution_count": 15,
   "id": "0b514362",
   "metadata": {},
   "outputs": [
    {
     "data": {
      "text/plain": [
       "torch.Size([64, 1, 33])"
      ]
     },
     "execution_count": 15,
     "metadata": {},
     "output_type": "execute_result"
    }
   ],
   "source": [
    "G.eval()\n",
    "z = torch.randn(batch_size, n_noise).to(DEVICE)\n",
    "y = torch.ones(batch_size,dtype=torch.long)\n",
    "y = to_onehot(y.view(batch_size, 1)).to(DEVICE)\n",
    "acc = G(z, y)\n",
    "acc.size()"
   ]
  },
  {
   "cell_type": "code",
   "execution_count": 23,
   "id": "d5304ca3",
   "metadata": {},
   "outputs": [
    {
     "data": {
      "text/plain": [
       "4778"
      ]
     },
     "execution_count": 23,
     "metadata": {},
     "output_type": "execute_result"
    }
   ],
   "source": [
    "df.loc[df['flag'] ==0].shape[0] - df.loc[df['flag'] ==1].shape[0]"
   ]
  },
  {
   "cell_type": "code",
   "execution_count": null,
   "id": "28e701e7",
   "metadata": {},
   "outputs": [],
   "source": []
  }
 ],
 "metadata": {
  "kernelspec": {
   "display_name": "Python 3 (ipykernel)",
   "language": "python",
   "name": "python3"
  },
  "language_info": {
   "codemirror_mode": {
    "name": "ipython",
    "version": 3
   },
   "file_extension": ".py",
   "mimetype": "text/x-python",
   "name": "python",
   "nbconvert_exporter": "python",
   "pygments_lexer": "ipython3",
   "version": "3.7.15"
  }
 },
 "nbformat": 4,
 "nbformat_minor": 5
}
