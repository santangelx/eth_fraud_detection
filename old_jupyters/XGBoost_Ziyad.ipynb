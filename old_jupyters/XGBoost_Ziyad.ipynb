{
 "cells": [
  {
   "cell_type": "markdown",
   "id": "c4fe270e",
   "metadata": {},
   "source": [
    "# XGBoost Model for fraud Detection"
   ]
  },
  {
   "cell_type": "code",
   "execution_count": null,
   "id": "7e51dbf0",
   "metadata": {},
   "outputs": [],
   "source": []
  },
  {
   "cell_type": "code",
   "execution_count": null,
   "id": "1ef33c84",
   "metadata": {},
   "outputs": [],
   "source": []
  },
  {
   "cell_type": "markdown",
   "id": "3a9c5fd7",
   "metadata": {},
   "source": [
    "## Imports "
   ]
  },
  {
   "cell_type": "code",
   "execution_count": 1,
   "id": "148c4ef4",
   "metadata": {},
   "outputs": [
    {
     "name": "stdout",
     "output_type": "stream",
     "text": [
      "Requirement already satisfied: scikit-learn in c:\\users\\tziya\\anaconda3\\lib\\site-packages (1.1.0)\n",
<<<<<<< HEAD
      "Requirement already satisfied: threadpoolctl>=2.0.0 in c:\\users\\tziya\\anaconda3\\lib\\site-packages (from scikit-learn) (3.0.0)\n",
      "Requirement already satisfied: joblib>=1.0.0 in c:\\users\\tziya\\anaconda3\\lib\\site-packages (from scikit-learn) (1.1.0)\n",
      "Requirement already satisfied: scipy>=1.3.2 in c:\\users\\tziya\\anaconda3\\lib\\site-packages (from scikit-learn) (1.7.3)\n",
=======
      "Requirement already satisfied: scipy>=1.3.2 in c:\\users\\tziya\\anaconda3\\lib\\site-packages (from scikit-learn) (1.7.3)\n",
      "Requirement already satisfied: joblib>=1.0.0 in c:\\users\\tziya\\anaconda3\\lib\\site-packages (from scikit-learn) (1.1.0)\n",
      "Requirement already satisfied: threadpoolctl>=2.0.0 in c:\\users\\tziya\\anaconda3\\lib\\site-packages (from scikit-learn) (3.0.0)\n",
>>>>>>> 828c7499e79cf832a1168cf2386a8e55a753dc1f
      "Requirement already satisfied: numpy>=1.17.3 in c:\\users\\tziya\\anaconda3\\lib\\site-packages (from scikit-learn) (1.20.3)\n"
     ]
    }
   ],
   "source": [
    "!pip install scikit-learn"
   ]
  },
  {
   "cell_type": "code",
   "execution_count": 1,
   "id": "dcf1549f",
   "metadata": {},
   "outputs": [
    {
     "name": "stdout",
     "output_type": "stream",
     "text": [
      "1.0.2\n"
     ]
    }
   ],
   "source": [
    "import sklearn\n",
    "print(sklearn.__version__)"
   ]
  },
  {
   "cell_type": "code",
   "execution_count": 2,
   "id": "48f74aaf",
   "metadata": {},
   "outputs": [],
   "source": [
    "import numpy as np # linear algebra\n",
    "import pandas as pd # data processing, CSV file I/O (e.g. pd.read_csv)\n",
    "import matplotlib.pyplot as plt\n",
    "from sklearn.model_selection import train_test_split\n",
    "from sklearn.pipeline import Pipeline\n",
    "from xgboost import XGBClassifier\n",
    "from sklearn.preprocessing import StandardScaler, OneHotEncoder, FunctionTransformer\n",
    "from sklearn import metrics"
   ]
  },
  {
   "cell_type": "code",
   "execution_count": 4,
   "id": "e5296a45",
   "metadata": {},
   "outputs": [
    {
     "name": "stdout",
     "output_type": "stream",
     "text": [
      "Requirement already satisfied: xgboost in c:\\users\\tziya\\anaconda3\\lib\\site-packages (1.5.0)\n",
      "Requirement already satisfied: numpy in c:\\users\\tziya\\anaconda3\\lib\\site-packages (from xgboost) (1.20.3)\n",
      "Requirement already satisfied: scipy in c:\\users\\tziya\\anaconda3\\lib\\site-packages (from xgboost) (1.7.3)\n"
     ]
    }
   ],
   "source": [
    "!pip install xgboost"
   ]
  },
  {
   "cell_type": "code",
   "execution_count": 5,
   "id": "32d72e25",
   "metadata": {},
   "outputs": [
    {
     "data": {
      "text/plain": [
       "'1.6.1'"
      ]
     },
     "execution_count": 5,
     "metadata": {},
     "output_type": "execute_result"
    }
   ],
   "source": [
    "import xgboost\n",
    "xgboost.__version__"
   ]
  },
  {
   "cell_type": "markdown",
   "id": "a4eb15b6",
   "metadata": {},
   "source": [
    "## Loading the data "
   ]
  },
  {
   "cell_type": "code",
<<<<<<< HEAD
   "execution_count": 6,
=======
   "execution_count": 3,
>>>>>>> 828c7499e79cf832a1168cf2386a8e55a753dc1f
   "id": "19230471",
   "metadata": {},
   "outputs": [],
   "source": [
    "df = pd.read_csv(\"preprocessed_data.csv\")"
   ]
  },
  {
   "cell_type": "markdown",
   "id": "1c492a92",
   "metadata": {},
   "source": [
    "## The new model"
   ]
  },
  {
   "cell_type": "code",
   "execution_count": 7,
   "id": "86ac19a7",
   "metadata": {},
   "outputs": [],
   "source": [
    "\n",
    "model = XGBClassifier(random_state=42, eval_metric='auc',\n",
    "              objective='binary:logistic')\n",
    "\n",
    "\n",
    "\n"
   ]
  },
  {
   "cell_type": "code",
   "execution_count": 8,
   "id": "d20d3dc8",
   "metadata": {},
   "outputs": [
    {
     "data": {
      "text/plain": [
       "(3240, 34)"
      ]
     },
     "execution_count": 8,
     "metadata": {},
     "output_type": "execute_result"
    }
   ],
   "source": [
    "df.columns = [x.lower() for x in df.columns]\n",
    "\n",
    "y = df['flag']\n",
    "df = df.drop(\"flag\", axis = 1)\n",
    "X = df\n",
    "X_train, X_test, y_train, y_test = train_test_split(\n",
    "     X, y, test_size=0.33, random_state=42)\n",
    "\n",
    "X_train = X_train.drop(\"index\", axis =1) \n",
    "X_train = X_train.drop(\"address\", axis =1) \n",
    "\n",
    "X_test = X_test.drop(\"index\", axis =1) \n",
    "X_test = X_test.drop(\"address\", axis =1) \n",
    "\n",
    "X_test.shape"
   ]
  },
  {
   "cell_type": "code",
   "execution_count": 10,
   "id": "b1f31ea5",
   "metadata": {},
   "outputs": [
    {
     "data": {
      "text/html": [
       "<style>#sk-container-id-1 {color: black;background-color: white;}#sk-container-id-1 pre{padding: 0;}#sk-container-id-1 div.sk-toggleable {background-color: white;}#sk-container-id-1 label.sk-toggleable__label {cursor: pointer;display: block;width: 100%;margin-bottom: 0;padding: 0.3em;box-sizing: border-box;text-align: center;}#sk-container-id-1 label.sk-toggleable__label-arrow:before {content: \"▸\";float: left;margin-right: 0.25em;color: #696969;}#sk-container-id-1 label.sk-toggleable__label-arrow:hover:before {color: black;}#sk-container-id-1 div.sk-estimator:hover label.sk-toggleable__label-arrow:before {color: black;}#sk-container-id-1 div.sk-toggleable__content {max-height: 0;max-width: 0;overflow: hidden;text-align: left;background-color: #f0f8ff;}#sk-container-id-1 div.sk-toggleable__content pre {margin: 0.2em;color: black;border-radius: 0.25em;background-color: #f0f8ff;}#sk-container-id-1 input.sk-toggleable__control:checked~div.sk-toggleable__content {max-height: 200px;max-width: 100%;overflow: auto;}#sk-container-id-1 input.sk-toggleable__control:checked~label.sk-toggleable__label-arrow:before {content: \"▾\";}#sk-container-id-1 div.sk-estimator input.sk-toggleable__control:checked~label.sk-toggleable__label {background-color: #d4ebff;}#sk-container-id-1 div.sk-label input.sk-toggleable__control:checked~label.sk-toggleable__label {background-color: #d4ebff;}#sk-container-id-1 input.sk-hidden--visually {border: 0;clip: rect(1px 1px 1px 1px);clip: rect(1px, 1px, 1px, 1px);height: 1px;margin: -1px;overflow: hidden;padding: 0;position: absolute;width: 1px;}#sk-container-id-1 div.sk-estimator {font-family: monospace;background-color: #f0f8ff;border: 1px dotted black;border-radius: 0.25em;box-sizing: border-box;margin-bottom: 0.5em;}#sk-container-id-1 div.sk-estimator:hover {background-color: #d4ebff;}#sk-container-id-1 div.sk-parallel-item::after {content: \"\";width: 100%;border-bottom: 1px solid gray;flex-grow: 1;}#sk-container-id-1 div.sk-label:hover label.sk-toggleable__label {background-color: #d4ebff;}#sk-container-id-1 div.sk-serial::before {content: \"\";position: absolute;border-left: 1px solid gray;box-sizing: border-box;top: 0;bottom: 0;left: 50%;z-index: 0;}#sk-container-id-1 div.sk-serial {display: flex;flex-direction: column;align-items: center;background-color: white;padding-right: 0.2em;padding-left: 0.2em;position: relative;}#sk-container-id-1 div.sk-item {position: relative;z-index: 1;}#sk-container-id-1 div.sk-parallel {display: flex;align-items: stretch;justify-content: center;background-color: white;position: relative;}#sk-container-id-1 div.sk-item::before, #sk-container-id-1 div.sk-parallel-item::before {content: \"\";position: absolute;border-left: 1px solid gray;box-sizing: border-box;top: 0;bottom: 0;left: 50%;z-index: -1;}#sk-container-id-1 div.sk-parallel-item {display: flex;flex-direction: column;z-index: 1;position: relative;background-color: white;}#sk-container-id-1 div.sk-parallel-item:first-child::after {align-self: flex-end;width: 50%;}#sk-container-id-1 div.sk-parallel-item:last-child::after {align-self: flex-start;width: 50%;}#sk-container-id-1 div.sk-parallel-item:only-child::after {width: 0;}#sk-container-id-1 div.sk-dashed-wrapped {border: 1px dashed gray;margin: 0 0.4em 0.5em 0.4em;box-sizing: border-box;padding-bottom: 0.4em;background-color: white;}#sk-container-id-1 div.sk-label label {font-family: monospace;font-weight: bold;display: inline-block;line-height: 1.2em;}#sk-container-id-1 div.sk-label-container {text-align: center;}#sk-container-id-1 div.sk-container {/* jupyter's `normalize.less` sets `[hidden] { display: none; }` but bootstrap.min.css set `[hidden] { display: none !important; }` so we also need the `!important` here to be able to override the default hidden behavior on the sphinx rendered scikit-learn.org. See: https://github.com/scikit-learn/scikit-learn/issues/21755 */display: inline-block !important;position: relative;}#sk-container-id-1 div.sk-text-repr-fallback {display: none;}</style><div id=\"sk-container-id-1\" class=\"sk-top-container\"><div class=\"sk-text-repr-fallback\"><pre>XGBClassifier(base_score=0.5, booster=&#x27;gbtree&#x27;, callbacks=None,\n",
       "              colsample_bylevel=1, colsample_bynode=1, colsample_bytree=1,\n",
       "              early_stopping_rounds=None, enable_categorical=False,\n",
       "              eval_metric=&#x27;auc&#x27;, gamma=0, gpu_id=-1, grow_policy=&#x27;depthwise&#x27;,\n",
       "              importance_type=None, interaction_constraints=&#x27;&#x27;,\n",
       "              learning_rate=0.300000012, max_bin=256, max_cat_to_onehot=4,\n",
       "              max_delta_step=0, max_depth=6, max_leaves=0, min_child_weight=1,\n",
       "              missing=nan, monotone_constraints=&#x27;()&#x27;, n_estimators=100,\n",
       "              n_jobs=0, num_parallel_tree=1, predictor=&#x27;auto&#x27;, random_state=42,\n",
       "              reg_alpha=0, reg_lambda=1, ...)</pre><b>In a Jupyter environment, please rerun this cell to show the HTML representation or trust the notebook. <br />On GitHub, the HTML representation is unable to render, please try loading this page with nbviewer.org.</b></div><div class=\"sk-container\" hidden><div class=\"sk-item\"><div class=\"sk-estimator sk-toggleable\"><input class=\"sk-toggleable__control sk-hidden--visually\" id=\"sk-estimator-id-1\" type=\"checkbox\" checked><label for=\"sk-estimator-id-1\" class=\"sk-toggleable__label sk-toggleable__label-arrow\">XGBClassifier</label><div class=\"sk-toggleable__content\"><pre>XGBClassifier(base_score=0.5, booster=&#x27;gbtree&#x27;, callbacks=None,\n",
       "              colsample_bylevel=1, colsample_bynode=1, colsample_bytree=1,\n",
       "              early_stopping_rounds=None, enable_categorical=False,\n",
       "              eval_metric=&#x27;auc&#x27;, gamma=0, gpu_id=-1, grow_policy=&#x27;depthwise&#x27;,\n",
       "              importance_type=None, interaction_constraints=&#x27;&#x27;,\n",
       "              learning_rate=0.300000012, max_bin=256, max_cat_to_onehot=4,\n",
       "              max_delta_step=0, max_depth=6, max_leaves=0, min_child_weight=1,\n",
       "              missing=nan, monotone_constraints=&#x27;()&#x27;, n_estimators=100,\n",
       "              n_jobs=0, num_parallel_tree=1, predictor=&#x27;auto&#x27;, random_state=42,\n",
       "              reg_alpha=0, reg_lambda=1, ...)</pre></div></div></div></div></div>"
      ],
      "text/plain": [
       "XGBClassifier(base_score=0.5, booster='gbtree', callbacks=None,\n",
       "              colsample_bylevel=1, colsample_bynode=1, colsample_bytree=1,\n",
       "              early_stopping_rounds=None, enable_categorical=False,\n",
       "              eval_metric='auc', gamma=0, gpu_id=-1, grow_policy='depthwise',\n",
       "              importance_type=None, interaction_constraints='',\n",
       "              learning_rate=0.300000012, max_bin=256, max_cat_to_onehot=4,\n",
       "              max_delta_step=0, max_depth=6, max_leaves=0, min_child_weight=1,\n",
       "              missing=nan, monotone_constraints='()', n_estimators=100,\n",
       "              n_jobs=0, num_parallel_tree=1, predictor='auto', random_state=42,\n",
       "              reg_alpha=0, reg_lambda=1, ...)"
      ]
     },
     "execution_count": 10,
     "metadata": {},
     "output_type": "execute_result"
    }
   ],
   "source": [
    "model.fit(X_train, y_train)\n"
   ]
  },
  {
   "cell_type": "markdown",
   "id": "2cd04770",
   "metadata": {},
   "source": [
    "## The model "
   ]
  },
  {
   "cell_type": "code",
<<<<<<< HEAD
   "execution_count": 7,
=======
   "execution_count": 4,
>>>>>>> 828c7499e79cf832a1168cf2386a8e55a753dc1f
   "id": "1a60c2b8",
   "metadata": {},
   "outputs": [],
   "source": [
    "pipeline = Pipeline([\n",
    "    ('learning', XGBClassifier(random_state=42, eval_metric='auc',\n",
    "              objective='binary:logistic') )\n",
    "])"
   ]
  },
  {
   "cell_type": "code",
<<<<<<< HEAD
   "execution_count": 8,
=======
   "execution_count": 5,
>>>>>>> 828c7499e79cf832a1168cf2386a8e55a753dc1f
   "id": "ce50f6f3",
   "metadata": {},
   "outputs": [
    {
     "data": {
      "text/plain": [
       "(3240, 34)"
      ]
     },
<<<<<<< HEAD
     "execution_count": 8,
=======
     "execution_count": 5,
>>>>>>> 828c7499e79cf832a1168cf2386a8e55a753dc1f
     "metadata": {},
     "output_type": "execute_result"
    }
   ],
   "source": [
    "# droping the columns index and adress as they can't be used for training \n",
    "\n",
    "df.columns = [x.lower() for x in df.columns]\n",
    "\n",
    "y = df['flag']\n",
    "df = df.drop(\"flag\", axis = 1)\n",
    "X = df\n",
    "X_train, X_test, y_train, y_test = train_test_split(\n",
    "     X, y, test_size=0.33, random_state=42)\n",
    "\n",
    "X_train = X_train.drop(\"index\", axis =1) \n",
    "X_train = X_train.drop(\"address\", axis =1) \n",
    "\n",
    "X_test = X_test.drop(\"index\", axis =1) \n",
    "X_test = X_test.drop(\"address\", axis =1) \n",
    "\n",
    "X_test.shape"
   ]
  },
  {
   "cell_type": "code",
   "execution_count": 9,
   "id": "6f62ee20",
   "metadata": {},
   "outputs": [
    {
     "data": {
      "text/plain": [
       "1454    0\n",
       "8914    1\n",
       "9728    1\n",
       "3869    0\n",
       "2521    0\n",
       "       ..\n",
       "5734    0\n",
       "5191    0\n",
       "5390    0\n",
       "860     0\n",
       "7270    0\n",
       "Name: flag, Length: 6576, dtype: int64"
      ]
     },
     "execution_count": 9,
     "metadata": {},
     "output_type": "execute_result"
    }
   ],
   "source": [
    "y_train"
   ]
  },
  {
   "cell_type": "markdown",
   "id": "e1a2ed45",
   "metadata": {},
   "source": [
    "## Training "
   ]
  },
  {
   "cell_type": "code",
<<<<<<< HEAD
   "execution_count": 11,
   "id": "c76ffe05",
   "metadata": {},
   "outputs": [
    {
     "data": {
      "text/html": [
       "<style>#sk-container-id-1 {color: black;background-color: white;}#sk-container-id-1 pre{padding: 0;}#sk-container-id-1 div.sk-toggleable {background-color: white;}#sk-container-id-1 label.sk-toggleable__label {cursor: pointer;display: block;width: 100%;margin-bottom: 0;padding: 0.3em;box-sizing: border-box;text-align: center;}#sk-container-id-1 label.sk-toggleable__label-arrow:before {content: \"▸\";float: left;margin-right: 0.25em;color: #696969;}#sk-container-id-1 label.sk-toggleable__label-arrow:hover:before {color: black;}#sk-container-id-1 div.sk-estimator:hover label.sk-toggleable__label-arrow:before {color: black;}#sk-container-id-1 div.sk-toggleable__content {max-height: 0;max-width: 0;overflow: hidden;text-align: left;background-color: #f0f8ff;}#sk-container-id-1 div.sk-toggleable__content pre {margin: 0.2em;color: black;border-radius: 0.25em;background-color: #f0f8ff;}#sk-container-id-1 input.sk-toggleable__control:checked~div.sk-toggleable__content {max-height: 200px;max-width: 100%;overflow: auto;}#sk-container-id-1 input.sk-toggleable__control:checked~label.sk-toggleable__label-arrow:before {content: \"▾\";}#sk-container-id-1 div.sk-estimator input.sk-toggleable__control:checked~label.sk-toggleable__label {background-color: #d4ebff;}#sk-container-id-1 div.sk-label input.sk-toggleable__control:checked~label.sk-toggleable__label {background-color: #d4ebff;}#sk-container-id-1 input.sk-hidden--visually {border: 0;clip: rect(1px 1px 1px 1px);clip: rect(1px, 1px, 1px, 1px);height: 1px;margin: -1px;overflow: hidden;padding: 0;position: absolute;width: 1px;}#sk-container-id-1 div.sk-estimator {font-family: monospace;background-color: #f0f8ff;border: 1px dotted black;border-radius: 0.25em;box-sizing: border-box;margin-bottom: 0.5em;}#sk-container-id-1 div.sk-estimator:hover {background-color: #d4ebff;}#sk-container-id-1 div.sk-parallel-item::after {content: \"\";width: 100%;border-bottom: 1px solid gray;flex-grow: 1;}#sk-container-id-1 div.sk-label:hover label.sk-toggleable__label {background-color: #d4ebff;}#sk-container-id-1 div.sk-serial::before {content: \"\";position: absolute;border-left: 1px solid gray;box-sizing: border-box;top: 0;bottom: 0;left: 50%;z-index: 0;}#sk-container-id-1 div.sk-serial {display: flex;flex-direction: column;align-items: center;background-color: white;padding-right: 0.2em;padding-left: 0.2em;position: relative;}#sk-container-id-1 div.sk-item {position: relative;z-index: 1;}#sk-container-id-1 div.sk-parallel {display: flex;align-items: stretch;justify-content: center;background-color: white;position: relative;}#sk-container-id-1 div.sk-item::before, #sk-container-id-1 div.sk-parallel-item::before {content: \"\";position: absolute;border-left: 1px solid gray;box-sizing: border-box;top: 0;bottom: 0;left: 50%;z-index: -1;}#sk-container-id-1 div.sk-parallel-item {display: flex;flex-direction: column;z-index: 1;position: relative;background-color: white;}#sk-container-id-1 div.sk-parallel-item:first-child::after {align-self: flex-end;width: 50%;}#sk-container-id-1 div.sk-parallel-item:last-child::after {align-self: flex-start;width: 50%;}#sk-container-id-1 div.sk-parallel-item:only-child::after {width: 0;}#sk-container-id-1 div.sk-dashed-wrapped {border: 1px dashed gray;margin: 0 0.4em 0.5em 0.4em;box-sizing: border-box;padding-bottom: 0.4em;background-color: white;}#sk-container-id-1 div.sk-label label {font-family: monospace;font-weight: bold;display: inline-block;line-height: 1.2em;}#sk-container-id-1 div.sk-label-container {text-align: center;}#sk-container-id-1 div.sk-container {/* jupyter's `normalize.less` sets `[hidden] { display: none; }` but bootstrap.min.css set `[hidden] { display: none !important; }` so we also need the `!important` here to be able to override the default hidden behavior on the sphinx rendered scikit-learn.org. See: https://github.com/scikit-learn/scikit-learn/issues/21755 */display: inline-block !important;position: relative;}#sk-container-id-1 div.sk-text-repr-fallback {display: none;}</style><div id=\"sk-container-id-1\" class=\"sk-top-container\"><div class=\"sk-text-repr-fallback\"><pre>Pipeline(steps=[(&#x27;learning&#x27;,\n",
       "                 XGBClassifier(base_score=0.5, booster=&#x27;gbtree&#x27;, callbacks=None,\n",
       "                               colsample_bylevel=1, colsample_bynode=1,\n",
       "                               colsample_bytree=1, early_stopping_rounds=None,\n",
       "                               enable_categorical=False, eval_metric=&#x27;auc&#x27;,\n",
       "                               gamma=0, gpu_id=-1, grow_policy=&#x27;depthwise&#x27;,\n",
       "                               importance_type=None, interaction_constraints=&#x27;&#x27;,\n",
       "                               learning_rate=0.300000012, max_bin=256,\n",
       "                               max_cat_to_onehot=4, max_delta_step=0,\n",
       "                               max_depth=6, max_leaves=0, min_child_weight=1,\n",
       "                               missing=nan, monotone_constraints=&#x27;()&#x27;,\n",
       "                               n_estimators=100, n_jobs=0, num_parallel_tree=1,\n",
       "                               predictor=&#x27;auto&#x27;, random_state=42, reg_alpha=0,\n",
       "                               reg_lambda=1, ...))])</pre><b>In a Jupyter environment, please rerun this cell to show the HTML representation or trust the notebook. <br />On GitHub, the HTML representation is unable to render, please try loading this page with nbviewer.org.</b></div><div class=\"sk-container\" hidden><div class=\"sk-item sk-dashed-wrapped\"><div class=\"sk-label-container\"><div class=\"sk-label sk-toggleable\"><input class=\"sk-toggleable__control sk-hidden--visually\" id=\"sk-estimator-id-1\" type=\"checkbox\" ><label for=\"sk-estimator-id-1\" class=\"sk-toggleable__label sk-toggleable__label-arrow\">Pipeline</label><div class=\"sk-toggleable__content\"><pre>Pipeline(steps=[(&#x27;learning&#x27;,\n",
       "                 XGBClassifier(base_score=0.5, booster=&#x27;gbtree&#x27;, callbacks=None,\n",
       "                               colsample_bylevel=1, colsample_bynode=1,\n",
       "                               colsample_bytree=1, early_stopping_rounds=None,\n",
       "                               enable_categorical=False, eval_metric=&#x27;auc&#x27;,\n",
       "                               gamma=0, gpu_id=-1, grow_policy=&#x27;depthwise&#x27;,\n",
       "                               importance_type=None, interaction_constraints=&#x27;&#x27;,\n",
       "                               learning_rate=0.300000012, max_bin=256,\n",
       "                               max_cat_to_onehot=4, max_delta_step=0,\n",
       "                               max_depth=6, max_leaves=0, min_child_weight=1,\n",
       "                               missing=nan, monotone_constraints=&#x27;()&#x27;,\n",
       "                               n_estimators=100, n_jobs=0, num_parallel_tree=1,\n",
       "                               predictor=&#x27;auto&#x27;, random_state=42, reg_alpha=0,\n",
       "                               reg_lambda=1, ...))])</pre></div></div></div><div class=\"sk-serial\"><div class=\"sk-item\"><div class=\"sk-estimator sk-toggleable\"><input class=\"sk-toggleable__control sk-hidden--visually\" id=\"sk-estimator-id-2\" type=\"checkbox\" ><label for=\"sk-estimator-id-2\" class=\"sk-toggleable__label sk-toggleable__label-arrow\">XGBClassifier</label><div class=\"sk-toggleable__content\"><pre>XGBClassifier(base_score=0.5, booster=&#x27;gbtree&#x27;, callbacks=None,\n",
       "              colsample_bylevel=1, colsample_bynode=1, colsample_bytree=1,\n",
       "              early_stopping_rounds=None, enable_categorical=False,\n",
       "              eval_metric=&#x27;auc&#x27;, gamma=0, gpu_id=-1, grow_policy=&#x27;depthwise&#x27;,\n",
       "              importance_type=None, interaction_constraints=&#x27;&#x27;,\n",
       "              learning_rate=0.300000012, max_bin=256, max_cat_to_onehot=4,\n",
       "              max_delta_step=0, max_depth=6, max_leaves=0, min_child_weight=1,\n",
       "              missing=nan, monotone_constraints=&#x27;()&#x27;, n_estimators=100,\n",
       "              n_jobs=0, num_parallel_tree=1, predictor=&#x27;auto&#x27;, random_state=42,\n",
       "              reg_alpha=0, reg_lambda=1, ...)</pre></div></div></div></div></div></div></div>"
      ],
      "text/plain": [
       "Pipeline(steps=[('learning',\n",
       "                 XGBClassifier(base_score=0.5, booster='gbtree', callbacks=None,\n",
       "                               colsample_bylevel=1, colsample_bynode=1,\n",
       "                               colsample_bytree=1, early_stopping_rounds=None,\n",
       "                               enable_categorical=False, eval_metric='auc',\n",
       "                               gamma=0, gpu_id=-1, grow_policy='depthwise',\n",
       "                               importance_type=None, interaction_constraints='',\n",
       "                               learning_rate=0.300000012, max_bin=256,\n",
       "                               max_cat_to_onehot=4, max_delta_step=0,\n",
       "                               max_depth=6, max_leaves=0, min_child_weight=1,\n",
       "                               missing=nan, monotone_constraints='()',\n",
       "                               n_estimators=100, n_jobs=0, num_parallel_tree=1,\n",
       "                               predictor='auto', random_state=42, reg_alpha=0,\n",
       "                               reg_lambda=1, ...))])"
      ]
     },
     "execution_count": 11,
     "metadata": {},
     "output_type": "execute_result"
    }
   ],
=======
   "execution_count": null,
   "id": "c76ffe05",
   "metadata": {},
   "outputs": [],
>>>>>>> 828c7499e79cf832a1168cf2386a8e55a753dc1f
   "source": [
    "pipeline.fit(X_train, y_train)"
   ]
  },
  {
   "cell_type": "code",
   "execution_count": 12,
   "id": "a621b2b1",
   "metadata": {},
   "outputs": [
    {
     "name": "stdout",
     "output_type": "stream",
     "text": [
      "Area under ROC of Model On Test Set - 99.98%\n"
     ]
    }
   ],
   "source": [
    "from sklearn.model_selection import cross_val_score\n",
    "\n",
    "#X_test.columns = X_test.columns.str.replace('[_]', ' ')\n",
    "  \n",
    "test_prediction = pipeline.predict_proba(X_test)[:,1]\n",
    "\n",
    "score = metrics.roc_auc_score(y_test, test_prediction)\n",
    "\n",
    "print(f'Area under ROC of Model On Test Set - {score:,.2%}')"
   ]
  },
  {
   "cell_type": "code",
   "execution_count": 13,
   "id": "14c0663e",
   "metadata": {},
   "outputs": [
    {
     "name": "stderr",
     "output_type": "stream",
     "text": [
      "C:\\Users\\tziya\\anaconda3\\lib\\site-packages\\sklearn\\utils\\deprecation.py:87: FutureWarning: Function plot_confusion_matrix is deprecated; Function `plot_confusion_matrix` is deprecated in 1.0 and will be removed in 1.2. Use one of the class methods: ConfusionMatrixDisplay.from_predictions or ConfusionMatrixDisplay.from_estimator.\n",
      "  warnings.warn(msg, category=FutureWarning)\n"
     ]
    },
    {
     "data": {
      "image/png": "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\n",
      "text/plain": [
       "<Figure size 432x288 with 2 Axes>"
      ]
     },
     "metadata": {
      "needs_background": "light"
     },
     "output_type": "display_data"
    }
   ],
   "source": [
    "test_prediction = pipeline.predict(X_test)\n",
    "\n",
    "disp = metrics.plot_confusion_matrix(pipeline, X_test, y_test,\n",
    "#                                  display_labels=class_names,\n",
    "                                 cmap=plt.cm.Blues,\n",
    "                                 normalize='true')"
   ]
  },
  {
   "cell_type": "code",
   "execution_count": null,
   "id": "06f5ca87",
   "metadata": {},
   "outputs": [],
   "source": []
  },
  {
   "cell_type": "code",
   "execution_count": null,
   "id": "8819bb96",
   "metadata": {},
   "outputs": [],
   "source": []
  }
 ],
 "metadata": {
  "kernelspec": {
   "display_name": "Python 3 (ipykernel)",
   "language": "python",
   "name": "python3"
  },
  "language_info": {
   "codemirror_mode": {
    "name": "ipython",
    "version": 3
   },
   "file_extension": ".py",
   "mimetype": "text/x-python",
   "name": "python",
   "nbconvert_exporter": "python",
   "pygments_lexer": "ipython3",
   "version": "3.7.15"
  }
 },
 "nbformat": 4,
 "nbformat_minor": 5
}
